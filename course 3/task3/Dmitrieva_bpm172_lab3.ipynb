{
 "cells": [
  {
   "cell_type": "markdown",
   "metadata": {},
   "source": [
    "# Вариант 10\n"
   ]
  },
  {
   "cell_type": "code",
   "execution_count": 65,
   "metadata": {},
   "outputs": [],
   "source": [
    "import numpy as np\n",
    "import math\n",
    "import pandas as pd\n",
    "import itertools\n",
    "%matplotlib inline\n",
    "import matplotlib.pyplot as plt"
   ]
  },
  {
   "cell_type": "markdown",
   "metadata": {},
   "source": [
    "# № 1.1.10"
   ]
  },
  {
   "cell_type": "markdown",
   "metadata": {},
   "source": [
    "**Найти сумму ряда аналитически. Вычислить значения частичных сумм ряда и найти величину погрешности при значениях N.**"
   ]
  },
  {
   "cell_type": "markdown",
   "metadata": {},
   "source": [
    "Исходный ряд: $$ \\sum_{n=0}^{\\infty}\\frac{84}{13(n^{2}+14n+48)} $$\n",
    "\n",
    "Найдем аналитически сумму ряда:\n",
    "\n",
    "$$ \\sum_{n=0}^{N}\\frac{84}{13(n^{2}+14n+48)} = \\frac{84}{13} \\sum_{n=0}^{N}\\frac{1}{(n+7)^{2}-1} = \\frac{84}{13} \\sum_{n=0}^{N}\\frac{1}{(n+6)(n+8)}= \\frac{84}{13} \\sum_{n=0}^{N} \\frac{1}{2} (\\frac{1}{n+6}-\\frac{1}{n+8})= \\frac{42}{13} (\\frac{1}{6}+\\frac{1}{7}-\\frac{1}{N+7}-\\frac{1}{N+8}) $$\n",
    "\n",
    "$$ S = \\lim_{N\\rightarrow \\infty  } S_{N}= \\lim_{N\\rightarrow \\infty  }( \\frac{42}{13} (\\frac{1}{6}+\\frac{1}{7}-\\frac{1}{N+7}-\\frac{1}{N+8}))= \\frac{42}{13}\\cdot \\frac{13}{42}=1$$\n"
   ]
  },
  {
   "cell_type": "code",
   "execution_count": 12,
   "metadata": {},
   "outputs": [],
   "source": [
    "s = lambda n: (84/(13*(n**2+14*n+48))) #данный ряд\n",
    "correct = 1 #аналитически вычисленная сумма ряда "
   ]
  },
  {
   "cell_type": "code",
   "execution_count": 13,
   "metadata": {},
   "outputs": [],
   "source": [
    "def sum_series(series, N, correct): #функция нахождения суммы ряда, абсолютной ошибки при разных N \n",
    "    \n",
    "    sums = [] #частичная сумма ряда при разных N\n",
    "    errors = [] #абсолютная ошибка \n",
    "    true_digits = [] #количество верных цифр\n",
    "    \n",
    "    for i in N:\n",
    "        sum_N =  np.sum([series(n) for n in range(i)])\n",
    "        sums.append(sum_N)\n",
    "        \n",
    "        error_N = abs(correct - sum_N)\n",
    "        errors.append(error_N)\n",
    "        \n",
    "        true_digits.append(digit(error_N))\n",
    "        \n",
    "    return sums, errors, true_digits\n",
    "    \n",
    "        \n",
    "def digit(error): #функция нахождения количества верных цифр \n",
    "    \n",
    "    true_dig = 0\n",
    "    degree = 1.0\n",
    "    while (degree > -10):\n",
    "        if (error < np.power(10, degree)):\n",
    "            true_dig += 1\n",
    "            degree -= 1\n",
    "        else:\n",
    "             return true_dig          \n",
    "    return None"
   ]
  },
  {
   "cell_type": "code",
   "execution_count": 14,
   "metadata": {},
   "outputs": [
    {
     "data": {
      "text/html": [
       "<div>\n",
       "<style scoped>\n",
       "    .dataframe tbody tr th:only-of-type {\n",
       "        vertical-align: middle;\n",
       "    }\n",
       "\n",
       "    .dataframe tbody tr th {\n",
       "        vertical-align: top;\n",
       "    }\n",
       "\n",
       "    .dataframe thead th {\n",
       "        text-align: right;\n",
       "    }\n",
       "</style>\n",
       "<table border=\"1\" class=\"dataframe\">\n",
       "  <thead>\n",
       "    <tr style=\"text-align: right;\">\n",
       "      <th></th>\n",
       "      <th>Количество членов ряда: N</th>\n",
       "      <th>Частичная сумма ряда</th>\n",
       "      <th>Абсолютная ошибка</th>\n",
       "      <th>Количество верных цифр</th>\n",
       "    </tr>\n",
       "  </thead>\n",
       "  <tbody>\n",
       "    <tr>\n",
       "      <td>0</td>\n",
       "      <td>10</td>\n",
       "      <td>0.608032</td>\n",
       "      <td>0.391968</td>\n",
       "      <td>2</td>\n",
       "    </tr>\n",
       "    <tr>\n",
       "      <td>1</td>\n",
       "      <td>100</td>\n",
       "      <td>0.939327</td>\n",
       "      <td>0.060673</td>\n",
       "      <td>3</td>\n",
       "    </tr>\n",
       "    <tr>\n",
       "      <td>2</td>\n",
       "      <td>1000</td>\n",
       "      <td>0.993580</td>\n",
       "      <td>0.006420</td>\n",
       "      <td>4</td>\n",
       "    </tr>\n",
       "    <tr>\n",
       "      <td>3</td>\n",
       "      <td>10000</td>\n",
       "      <td>0.999354</td>\n",
       "      <td>0.000646</td>\n",
       "      <td>5</td>\n",
       "    </tr>\n",
       "    <tr>\n",
       "      <td>4</td>\n",
       "      <td>100000</td>\n",
       "      <td>0.999935</td>\n",
       "      <td>0.000065</td>\n",
       "      <td>6</td>\n",
       "    </tr>\n",
       "  </tbody>\n",
       "</table>\n",
       "</div>"
      ],
      "text/plain": [
       "   Количество членов ряда: N  Частичная сумма ряда  Абсолютная ошибка  \\\n",
       "0                         10              0.608032           0.391968   \n",
       "1                        100              0.939327           0.060673   \n",
       "2                       1000              0.993580           0.006420   \n",
       "3                      10000              0.999354           0.000646   \n",
       "4                     100000              0.999935           0.000065   \n",
       "\n",
       "   Количество верных цифр  \n",
       "0                       2  \n",
       "1                       3  \n",
       "2                       4  \n",
       "3                       5  \n",
       "4                       6  "
      ]
     },
     "execution_count": 14,
     "metadata": {},
     "output_type": "execute_result"
    }
   ],
   "source": [
    "N = [10, 10**2, 10**3, 10**4, 10**5]\n",
    "\n",
    "part_sums, abs_erorrs, true_digits = sum_series(s, N, correct)\n",
    "\n",
    "df = pd.DataFrame()\n",
    "df[\"Количество членов ряда: N\"] = N\n",
    "df[\"Частичная сумма ряда\"] = part_sums\n",
    "df[\"Абсолютная ошибка\"] = abs_erorrs\n",
    "df[\"Количество верных цифр\"] = true_digits\n",
    "df"
   ]
  },
  {
   "cell_type": "markdown",
   "metadata": {},
   "source": [
    "**Вывод:** Как видно из приведенного вычислительного эксперимента, увеличение числа членов ряда в 10 раз по сравнению с предыдущим случаем увеличивает число верных цифр в ответе на 1"
   ]
  },
  {
   "cell_type": "code",
   "execution_count": 15,
   "metadata": {},
   "outputs": [
    {
     "data": {
      "image/png": "[encoded data removed]",
      "text/plain": [
       "<Figure size 720x504 with 1 Axes>"
      ]
     },
     "metadata": {
      "needs_background": "light"
     },
     "output_type": "display_data"
    }
   ],
   "source": [
    "plt.figure(figsize=(10, 7))\n",
    "plt.bar([\"10\", \"100\", \"1000\", \"10000\", \"100000\"],df['Количество верных цифр'], color = 'skyblue')\n",
    "plt.xlabel('Число членов ряда - N')\n",
    "plt.ylabel('Количество верных цифр')\n",
    "plt.show()"
   ]
  },
  {
   "cell_type": "markdown",
   "metadata": {},
   "source": [
    "# № 1.8"
   ]
  },
  {
   "cell_type": "markdown",
   "metadata": {},
   "source": [
    "**Составить программу, моделирующую вычисления на ЭВМ с ограниченной разрядностью m.**\n",
    "\n",
    "**Решить задачу 1.1 для случая N =10000 , используя эту программу.**\n",
    "\n",
    "**Составить график зависимости погрешности от количества разрядов m=4,5,...,8.**"
   ]
  },
  {
   "cell_type": "code",
   "execution_count": 16,
   "metadata": {},
   "outputs": [],
   "source": [
    "def digit_sum(n, m):\n",
    "    cur_sum = 0\n",
    "    for i in range(0,n+1):\n",
    "        cur_elem = s(i)\n",
    "        mantissa, exp = math.frexp(cur_elem)\n",
    "        digits = str(mantissa)[:m+2]\n",
    "        cur_elem = float(digits)*2**exp\n",
    "        cur_sum += cur_elem\n",
    "    return cur_sum\n",
    "\n",
    "def abs_error(sum1, sum2): #фунция вычисления абсолютной ошибки \n",
    "    return abs(sum1 - sum2)\n",
    "\n",
    "def relative_error(sum1, sum2): #функция вычисления относительной ошибки\n",
    "    return abs((sum2 - sum1) / sum1)"
   ]
  },
  {
   "cell_type": "code",
   "execution_count": 17,
   "metadata": {},
   "outputs": [
    {
     "data": {
      "text/html": [
       "<div>\n",
       "<style scoped>\n",
       "    .dataframe tbody tr th:only-of-type {\n",
       "        vertical-align: middle;\n",
       "    }\n",
       "\n",
       "    .dataframe tbody tr th {\n",
       "        vertical-align: top;\n",
       "    }\n",
       "\n",
       "    .dataframe thead th {\n",
       "        text-align: right;\n",
       "    }\n",
       "</style>\n",
       "<table border=\"1\" class=\"dataframe\">\n",
       "  <thead>\n",
       "    <tr style=\"text-align: right;\">\n",
       "      <th></th>\n",
       "      <th>Количество разрядов: m</th>\n",
       "      <th>Частичная сумма с m разрядами</th>\n",
       "      <th>Абсолютная ошибка</th>\n",
       "      <th>Относительная ошибка</th>\n",
       "    </tr>\n",
       "  </thead>\n",
       "  <tbody>\n",
       "    <tr>\n",
       "      <td>0</td>\n",
       "      <td>4</td>\n",
       "      <td>0.999276</td>\n",
       "      <td>7.858000e-05</td>\n",
       "      <td>7.863077e-05</td>\n",
       "    </tr>\n",
       "    <tr>\n",
       "      <td>1</td>\n",
       "      <td>5</td>\n",
       "      <td>0.999347</td>\n",
       "      <td>7.457849e-06</td>\n",
       "      <td>7.462668e-06</td>\n",
       "    </tr>\n",
       "    <tr>\n",
       "      <td>2</td>\n",
       "      <td>6</td>\n",
       "      <td>0.999353</td>\n",
       "      <td>8.304545e-07</td>\n",
       "      <td>8.309911e-07</td>\n",
       "    </tr>\n",
       "    <tr>\n",
       "      <td>3</td>\n",
       "      <td>7</td>\n",
       "      <td>0.999354</td>\n",
       "      <td>4.980728e-09</td>\n",
       "      <td>4.983946e-09</td>\n",
       "    </tr>\n",
       "    <tr>\n",
       "      <td>4</td>\n",
       "      <td>8</td>\n",
       "      <td>0.999354</td>\n",
       "      <td>5.682553e-08</td>\n",
       "      <td>5.686224e-08</td>\n",
       "    </tr>\n",
       "  </tbody>\n",
       "</table>\n",
       "</div>"
      ],
      "text/plain": [
       "   Количество разрядов: m  Частичная сумма с m разрядами  Абсолютная ошибка  \\\n",
       "0                       4                       0.999276       7.858000e-05   \n",
       "1                       5                       0.999347       7.457849e-06   \n",
       "2                       6                       0.999353       8.304545e-07   \n",
       "3                       7                       0.999354       4.980728e-09   \n",
       "4                       8                       0.999354       5.682553e-08   \n",
       "\n",
       "   Относительная ошибка  \n",
       "0          7.863077e-05  \n",
       "1          7.462668e-06  \n",
       "2          8.309911e-07  \n",
       "3          4.983946e-09  \n",
       "4          5.686224e-08  "
      ]
     },
     "execution_count": 17,
     "metadata": {},
     "output_type": "execute_result"
    }
   ],
   "source": [
    "N = 10000\n",
    "sum1 =  np.sum([s(n) for n in range(N)])\n",
    "\n",
    "m = [4,5,6,7,8]\n",
    "abs_err = []\n",
    "rel_err = []\n",
    "values = []\n",
    "df2 = pd.DataFrame()\n",
    "\n",
    "for i in m:\n",
    "    cur_sum = digit_sum(N, i)\n",
    "    cur_rel_err = relative_error(sum1, cur_sum)\n",
    "    cur_abs_err = abs_error(sum1, cur_sum)\n",
    "    \n",
    "    abs_err.append(cur_abs_err)\n",
    "    rel_err.append(cur_rel_err)\n",
    "    values.append(cur_sum)\n",
    "    \n",
    "df2[\"Количество разрядов: m\"] = m\n",
    "df2[\"Частичная сумма с m разрядами\"] = values\n",
    "df2[\"Абсолютная ошибка\"] = abs_err\n",
    "df2[\"Относительная ошибка\"] = rel_err\n",
    "\n",
    "df2"
   ]
  },
  {
   "cell_type": "code",
   "execution_count": 28,
   "metadata": {},
   "outputs": [
    {
     "data": {
      "text/plain": [
       "Text(0, 0.5, 'Абсолютная ошибка')"
      ]
     },
     "execution_count": 28,
     "metadata": {},
     "output_type": "execute_result"
    },
    {
     "data": {
      "image/png": "[encoded data removed]",
      "text/plain": [
       "<Figure size 720x504 with 1 Axes>"
      ]
     },
     "metadata": {
      "needs_background": "light"
     },
     "output_type": "display_data"
    }
   ],
   "source": [
    "plt.figure(figsize=(10, 7))\n",
    "plt.title(\"Зависимость абсолютной ошибки от количества разрядов\")\n",
    "plt.plot(m, abs_err)\n",
    "plt.xticks(m)\n",
    "plt.xlabel(\"Количество разрядов m\")\n",
    "plt.ylabel(\"Абсолютная ошибка\")"
   ]
  },
  {
   "cell_type": "code",
   "execution_count": 29,
   "metadata": {},
   "outputs": [
    {
     "data": {
      "text/plain": [
       "Text(0, 0.5, 'Относительная ошибка')"
      ]
     },
     "execution_count": 29,
     "metadata": {},
     "output_type": "execute_result"
    },
    {
     "data": {
      "image/png": "[encoded data removed]",
      "text/plain": [
       "<Figure size 720x504 with 1 Axes>"
      ]
     },
     "metadata": {
      "needs_background": "light"
     },
     "output_type": "display_data"
    }
   ],
   "source": [
    "plt.figure(figsize=(10, 7))\n",
    "plt.title(\"Зависимость относительной ошибки от количества разрядов\")\n",
    "plt.plot(m, rel_err)\n",
    "plt.xticks(m)\n",
    "plt.xlabel(\"Количество разрядов m\")\n",
    "plt.ylabel(\"Относительная ошибка\")"
   ]
  },
  {
   "cell_type": "markdown",
   "metadata": {},
   "source": [
    "# № 1.3.3."
   ]
  },
  {
   "cell_type": "markdown",
   "metadata": {},
   "source": [
    "**Для заданной матрицы A найти обратную матрицу (если это возможно). Затем в элемент a11 внести\n",
    "погрешность в 10% и снова найти обратную матрицу. Объяснить полученные результаты.**\n"
   ]
  },
  {
   "cell_type": "code",
   "execution_count": 101,
   "metadata": {},
   "outputs": [
    {
     "data": {
      "text/plain": [
       "0.0"
      ]
     },
     "execution_count": 101,
     "metadata": {},
     "output_type": "execute_result"
    }
   ],
   "source": [
    "A = np.array([[3, 5, 3], \n",
    "              [9, 15, 9], \n",
    "              [6, 7, 2]])\n",
    "round(np.linalg.det(A),5)"
   ]
  },
  {
   "cell_type": "markdown",
   "metadata": {},
   "source": [
    "Две строки линейно - зависимые, поэтому определитель матрицы равен нулю. Следовательно, матрица вырожденная, поэтому не имеет обратной."
   ]
  },
  {
   "cell_type": "code",
   "execution_count": 32,
   "metadata": {},
   "outputs": [
    {
     "data": {
      "text/plain": [
       "-9.9"
      ]
     },
     "execution_count": 32,
     "metadata": {},
     "output_type": "execute_result"
    }
   ],
   "source": [
    "A1 = np.matrix('3.3 5 3; 9 15 9; 6 7 2')  #измененная матрица \n",
    "round(np.linalg.det(A1),3)"
   ]
  },
  {
   "cell_type": "code",
   "execution_count": 34,
   "metadata": {},
   "outputs": [
    {
     "data": {
      "text/plain": [
       "matrix([[ 3.33333333e+00, -1.11111111e+00,  1.17190208e-16],\n",
       "        [-3.63636364e+00,  1.15151515e+00,  2.72727273e-01],\n",
       "        [ 2.72727273e+00, -6.96969697e-01, -4.54545455e-01]])"
      ]
     },
     "execution_count": 34,
     "metadata": {},
     "output_type": "execute_result"
    }
   ],
   "source": [
    "A1_inv = np.linalg.inv(A1) #обратная матрица к измененной \n",
    "A1_inv"
   ]
  },
  {
   "cell_type": "markdown",
   "metadata": {},
   "source": [
    "**Вывод:** До внесения возмущений в матрицу она имела определитель, равный нулю. Внесение абсолютной погрешности привело к изменению первого сомножителя в выражении, вычисляемом по правилу Сарруса. Определитель принял значение, отличное от нуля и вычисление обратной матрицы стало возможным."
   ]
  },
  {
   "cell_type": "markdown",
   "metadata": {},
   "source": [
    "# №1.6"
   ]
  },
  {
   "cell_type": "markdown",
   "metadata": {},
   "source": [
    "**Для пакета MATHCAD найти значения машинного нуля, машинной бесконечности, машинного эпсилон.**\n",
    "\n",
    "См. файл Task1.6.\n"
   ]
  },
  {
   "cell_type": "markdown",
   "metadata": {},
   "source": [
    "<img src=\"task1.6.png\">"
   ]
  },
  {
   "cell_type": "markdown",
   "metadata": {},
   "source": [
    "# №1.7"
   ]
  },
  {
   "cell_type": "markdown",
   "metadata": {},
   "source": [
    "**Вычислить значения машинного нуля, машинной бесконечности, машинного эпсилон в режимах одинарной и двойной точности на алгоритмическом языке. Сравнить результаты с результатами задачи 1.6.**"
   ]
  },
  {
   "cell_type": "code",
   "execution_count": 45,
   "metadata": {},
   "outputs": [],
   "source": [
    "def get_zero(precision):\n",
    "    n = 0\n",
    "    while(precision(2**(-n)) != 0.0):\n",
    "        n += 1\n",
    "    return 2**(-n + 1)\n",
    "\n",
    "\n",
    "def get_infty(precision):\n",
    "    n = 0\n",
    "    inf = 0\n",
    "    while inf != np.inf:\n",
    "        try:\n",
    "            inf = precision(2.0 ** n)\n",
    "        except OverflowError:\n",
    "            return 2.0**(n-1)\n",
    "        n += 1\n",
    "    return 2.0**(n-1)\n",
    "\n",
    "def get_epsilon(precision):\n",
    "    n = 0\n",
    "    while(precision(2**(-n) + 1) != 1.0):\n",
    "        n += 1\n",
    "    return 2**(-n + 1)\n"
   ]
  },
  {
   "cell_type": "code",
   "execution_count": 46,
   "metadata": {},
   "outputs": [
    {
     "name": "stdout",
     "output_type": "stream",
     "text": [
      "Одинарная точность:\n",
      "Машинный ноль: 1.401298464324817e-45\n",
      "Машинная бесконечность: 3.402823669209385e+38\n",
      "Машинный эпсилон: 1.1920928955078125e-07\n"
     ]
    }
   ],
   "source": [
    "print(\"Одинарная точность:\")\n",
    "print(\"Машинный ноль: {}\".format(get_zero(np.float32)))\n",
    "print(\"Машинная бесконечность: {}\".format(get_infty(np.float32)))\n",
    "print(\"Машинный эпсилон: {}\".format(get_epsilon(np.float32)))"
   ]
  },
  {
   "cell_type": "code",
   "execution_count": 47,
   "metadata": {},
   "outputs": [
    {
     "name": "stdout",
     "output_type": "stream",
     "text": [
      "Двойная точность:\n",
      "Машинный ноль: 5e-324\n",
      "Машинная бесконечность: 8.98846567431158e+307\n",
      "Машинный эпсилон: 2.220446049250313e-16\n"
     ]
    }
   ],
   "source": [
    "print(\"Двойная точность:\")\n",
    "print(\"Машинный ноль: {}\".format(get_zero(np.float64)))\n",
    "print(\"Машинная бесконечность: {}\".format(get_infty(np.float64)))\n",
    "print(\"Машинный эпсилон: {}\".format(get_epsilon(np.float64)))"
   ]
  },
  {
   "cell_type": "markdown",
   "metadata": {},
   "source": [
    "**Вывод:** В ходе решения задач 1.6 и 1.7  были получены результаты, порядки которых сопоставимы с порядками теоретически определенных величин для современных ЭВМ, что подтверждает корректную постановку эксперимента."
   ]
  },
  {
   "cell_type": "markdown",
   "metadata": {},
   "source": [
    "# №1.9.4"
   ]
  },
  {
   "cell_type": "markdown",
   "metadata": {},
   "source": [
    "**Для матрицы A решить вопрос о существовании обратной матрицы в следующих случаях:**\n",
    "\n",
    "**1) элементы матрицы заданы точно;**\n",
    "\n",
    "**2) элементы матрицы заданы приближенно с относительной погрешностью:**\n",
    "       \n",
    "       a) δ =α% \n",
    "       b) δ = β%.\n",
    "**Найти относительную погрешность результата.**"
   ]
  },
  {
   "cell_type": "code",
   "execution_count": 102,
   "metadata": {},
   "outputs": [
    {
     "name": "stdout",
     "output_type": "stream",
     "text": [
      "Определитель матрицы: 2.000000000000001\n",
      "Обратная матрица к A:\n"
     ]
    },
    {
     "data": {
      "text/plain": [
       "array([[  1.75,  -0.5 ,  -1.  ],\n",
       "       [ 10.25,  -1.5 ,  -9.  ],\n",
       "       [-11.  ,   2.  ,   9.  ]])"
      ]
     },
     "execution_count": 102,
     "metadata": {},
     "output_type": "execute_result"
    }
   ],
   "source": [
    "# элементы матрицы заданы точно \n",
    "A = np.array([[9, 5, 6], \n",
    "              [13.5, 9.5, 11], \n",
    "              [8, 4, 5]])\n",
    "det_correct = np.linalg.det(A)\n",
    "print('Определитель матрицы:', det_correct)\n",
    "A_inv = np.linalg.inv(A)\n",
    "print(\"Обратная матрица к A:\")\n",
    "A_inv"
   ]
  },
  {
   "cell_type": "markdown",
   "metadata": {},
   "source": [
    "Определитель матрицы не равен нулю, следовательно, она невырожденная и имеет обратную матрицу. "
   ]
  },
  {
   "cell_type": "code",
   "execution_count": 75,
   "metadata": {},
   "outputs": [],
   "source": [
    "# элементы матрицы заданы приближенно с относительной погрешностью\n",
    "alpha = 0.1\n",
    "betta = 0.5"
   ]
  },
  {
   "cell_type": "code",
   "execution_count": 77,
   "metadata": {},
   "outputs": [],
   "source": [
    "def get_det(A, sigma): #Вычисление 2^9 определителей матриц\n",
    "    determinants = []\n",
    "    dimension = A.shape[0]*A.shape[1]\n",
    "    bool_matrix = itertools.product([0,1], repeat=dimension)\n",
    "    for cur_vec in bool_matrix:\n",
    "        cur_A = A.flatten()\n",
    "        for i in range(dimension):\n",
    "            if cur_vec[i] == 0:\n",
    "                cur_A[i] = cur_A[i] * (1 - sigma)\n",
    "            else:\n",
    "                cur_A[i] = cur_A[i] * (1 + sigma)\n",
    "                \n",
    "        cur_A = cur_A.reshape((A.shape[0], A.shape[1]))\n",
    "        \n",
    "        determinants.append(np.linalg.det(cur_A))\n",
    "        \n",
    "    return determinants"
   ]
  },
  {
   "cell_type": "code",
   "execution_count": 95,
   "metadata": {},
   "outputs": [],
   "source": [
    "def is_inv(determinant): #матрица обратима, когда определитель не равен нулю\n",
    "    if determinant == 0:\n",
    "        print(\"Матрица не имеет обратной\")\n",
    "        \n",
    "def check_inv(min_det, max_det): #если 0 принадлежит отрезку, то неопределенность, иначе обратима \n",
    "    if min_det*max_det < 0:\n",
    "        print(\"Неопределенность\")\n",
    "    else:\n",
    "        print(\"Обратима, нет нуля в отрезке [m, M]\")"
   ]
  },
  {
   "cell_type": "code",
   "execution_count": 129,
   "metadata": {},
   "outputs": [
    {
     "name": "stdout",
     "output_type": "stream",
     "text": [
      "Отрезок [m,M] =  [ -82.50600000000001 , 95.47299999999998 ]\n",
      "Неопределенность\n"
     ]
    }
   ],
   "source": [
    "dets_alpha = get_det(A, alpha)\n",
    "min_det, max_det = np.min(dets_alpha), np.max(dets_alpha)\n",
    "print('Отрезок [m,M] = ', '[',min_det,',',max_det,']')\n",
    "\n",
    "is_inv(min_det)\n",
    "is_inv(max_det)\n",
    "check_inv(min_det, max_det)"
   ]
  },
  {
   "cell_type": "markdown",
   "metadata": {},
   "source": [
    "Общую относительную погрешность будем вычислять, как среднее арифметическое всех относительных погрешностей. На каждом измерении относительную погрешность будет вычислять как отношение абсолютной погрешности к нормированному значению. В качестве нормированного значения возьмем максимальное."
   ]
  },
  {
   "cell_type": "code",
   "execution_count": 130,
   "metadata": {},
   "outputs": [
    {
     "name": "stdout",
     "output_type": "stream",
     "text": [
      "Общая относительная погрешность =  0.2151451277455409\n"
     ]
    }
   ],
   "source": [
    "rel= []\n",
    "for i in dets_alpha:\n",
    "    rel.append(abs((det_correct-i)/max_det))\n",
    "print('Общая относительная погрешность = ', sum(rel)/len(dets_alpha))"
   ]
  },
  {
   "cell_type": "code",
   "execution_count": 131,
   "metadata": {},
   "outputs": [
    {
     "name": "stdout",
     "output_type": "stream",
     "text": [
      "Отрезок [m,M] =  [ -1577.2499999999993 , 1630.1249999999989 ]\n",
      "Неопределенность\n"
     ]
    }
   ],
   "source": [
    "dets_betta = get_det(A, betta)\n",
    "min_det, max_det = np.min(dets_betta), np.max(dets_betta)\n",
    "print('Отрезок [m,M] = ', '[',min_det,',',max_det,']')\n",
    "\n",
    "is_inv(min_det)\n",
    "is_inv(max_det)\n",
    "check_inv(min_det, max_det)"
   ]
  },
  {
   "cell_type": "code",
   "execution_count": 132,
   "metadata": {},
   "outputs": [
    {
     "name": "stdout",
     "output_type": "stream",
     "text": [
      "Общая относительная погрешность =  0.19224225519515395\n"
     ]
    }
   ],
   "source": [
    "rel = []\n",
    "for i in dets_betta:\n",
    "    rel.append(abs((det_correct-i)/max_det))\n",
    "print('Общая относительная погрешность = ', sum(rel)/len(dets_betta))"
   ]
  },
  {
   "cell_type": "code",
   "execution_count": null,
   "metadata": {},
   "outputs": [],
   "source": []
  },
  {
   "cell_type": "code",
   "execution_count": null,
   "metadata": {},
   "outputs": [],
   "source": []
  }
 ],
 "metadata": {
  "kernelspec": {
   "display_name": "Python 3",
   "language": "python",
   "name": "python3"
  },
  "language_info": {
   "codemirror_mode": {
    "name": "ipython",
    "version": 3
   },
   "file_extension": ".py",
   "mimetype": "text/x-python",
   "name": "python",
   "nbconvert_exporter": "python",
   "pygments_lexer": "ipython3",
   "version": "3.7.4"
  }
 },
 "nbformat": 4,
 "nbformat_minor": 2
}
