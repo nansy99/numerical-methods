{
 "cells": [
  {
   "cell_type": "markdown",
   "metadata": {},
   "source": [
    "### Вариант 10\n"
   ]
  },
  {
   "cell_type": "markdown",
   "metadata": {},
   "source": [
    "### Задание 2.1.10\n",
    "##### Метод бисекции\n",
    "$ f(x) =( tg x )^2 + (\\sqrt{3}-1)tg x - \\sqrt{3} $ \\\n",
    "$ g(x) =( tg x )^2 - 2 tg x+ 1 $ \\\n",
    "Отрезок $\\left [ -1.2, 1 \\right ]$ \\\n",
    "$ \\varepsilon = 10^{-10} $\n",
    "\n",
    "\n",
    "##### Аналитическое решение \n",
    "Для функции f(x) : $ x_{1}= \\frac{1}{4}(\\pi +4\\pi n) , n\\in \\mathbb{Z} \\approx 0.79 $ ,\n",
    "$  x_{2}= \\frac{1}{3}(-\\pi +3\\pi n) , n\\in \\mathbb{Z} \\approx -1.05 $ \\\n",
    "Для функции g(x) : $ x= \\frac{1}{4}(\\pi +4\\pi n) , n\\in \\mathbb{Z} \\approx 0.79$\n",
    "\n"
   ]
  },
  {
   "cell_type": "code",
   "execution_count": 120,
   "metadata": {},
   "outputs": [],
   "source": [
    "import math \n",
    "import cmath\n",
    "import pylab\n",
    "import numpy as np"
   ]
  },
  {
   "cell_type": "code",
   "execution_count": 121,
   "metadata": {},
   "outputs": [
    {
     "data": {
      "image/png": "[encoded data removed]",
      "text/plain": [
       "<Figure size 432x288 with 1 Axes>"
      ]
     },
     "metadata": {
      "needs_background": "light"
     },
     "output_type": "display_data"
    }
   ],
   "source": [
    "f = lambda x: (math.tan(x))**2 + (math.sqrt(3)-1)*math.tan(x) - math.sqrt(3)\n",
    "\n",
    "X = np.arange(-1.2, 1, 0.1)\n",
    "pylab.plot([x for x in X], [f(x) for x in X])\n",
    "pylab.grid(True)\n",
    "pylab.title('function f(x)')\n",
    "\n",
    "\n",
    "# 2 корня на данном отрезке,поэтому будем брать два отрезка : [-1.2,0], [0,1]\n",
    "a1= -1.2\n",
    "b1=0\n",
    "a2=0\n",
    "b2=1"
   ]
  },
  {
   "cell_type": "code",
   "execution_count": 122,
   "metadata": {
    "scrolled": true
   },
   "outputs": [
    {
     "data": {
      "image/png": "[encoded data removed]",
      "text/plain": [
       "<Figure size 432x288 with 1 Axes>"
      ]
     },
     "metadata": {
      "needs_background": "light"
     },
     "output_type": "display_data"
    }
   ],
   "source": [
    "g = lambda x: (math.tan(x))**2 - 2*math.tan(x) + 1 \n",
    "\n",
    "pylab.plot([x for x in X], [g(x) for x in X], c='r')\n",
    "pylab.grid(True)\n",
    "pylab.title('function g(x)')\n",
    "\n",
    "# 1 корень на данном отрезке \n",
    "a=-1.2\n",
    "b=1"
   ]
  },
  {
   "cell_type": "code",
   "execution_count": 125,
   "metadata": {},
   "outputs": [],
   "source": [
    "def bisection(a, b, f, e):\n",
    "    while  abs(a - b) >= e:\n",
    "        x = (a + b) / 2\n",
    "        if f(a) * f(x) < 0:\n",
    "            a, b = (a, x)\n",
    "        elif f(b) * f(x) < 0:\n",
    "            a, b = (x, b)\n",
    "        else:\n",
    "            return 'Error! Метод бисекции не работает!'\n",
    "    return (a + b) / 2\n"
   ]
  },
  {
   "cell_type": "code",
   "execution_count": 126,
   "metadata": {},
   "outputs": [
    {
     "name": "stdout",
     "output_type": "stream",
     "text": [
      "root 1 of func f =  -1.0471975511871279\n",
      "root 2 of func f =  0.7853981633670628\n",
      "root of func g =  Error! Метод бисекции не работает!\n"
     ]
    }
   ],
   "source": [
    "e2=10e-10\n",
    "print ('root 1 of func f = ', bisection(a1,b1,f,e2))\n",
    "print ('root 2 of func f = ', bisection(a2,b2,f,e2))\n",
    "print ('root of func g = ', bisection(a,b,g,e2))\n"
   ]
  },
  {
   "cell_type": "markdown",
   "metadata": {},
   "source": [
    "Это происходит потому, что функция не пересекает ось абсцисс, и на концах отрезков всегда функция имеет только знак >0."
   ]
  },
  {
   "cell_type": "markdown",
   "metadata": {},
   "source": [
    "# Задание 2.5.2\n",
    "##### Модифицированный метод Ньютона для случая кратного корня \n",
    "$ f(x) = 144 sinx +12\\sqrt{3}\\pi +36x^{2}+\\pi ^{2}-72-12\\pi x-72\\sqrt{3}x $ \\\n",
    "Отрезок $\\left [ -0.3, 0.7 \\right ]$ \\\n",
    "$ \\varepsilon = 10^{-5} $ \\\n",
    "m=1,2,3,4,5\n"
   ]
  },
  {
   "cell_type": "code",
   "execution_count": 24,
   "metadata": {},
   "outputs": [],
   "source": [
    "from math import pi\n",
    "f = lambda x: 144*math.sin(x)+12*math.sqrt(3)*pi + 36*(x**2) + pi**2 -72 -12*pi*x - 72*math.sqrt(3)*x\n",
    "f1 = lambda x: 144*math.cos(x)+72*x -12*pi -  72*math.sqrt(3)\n",
    "\n",
    "e2= 10e-5\n",
    "a=0.3\n",
    "b=0.7\n",
    "\n",
    "def newtons_method(a, b, f, f1,m, e):\n",
    "    x0 = (a + b) / 2\n",
    "    x1 = x0 - m*(f(x0) / f1(x0))\n",
    "    i=0\n",
    "    while True:\n",
    "        if math.fabs(x1 - x0) < e: return x1,i\n",
    "        x0 = x1\n",
    "        x1 = x0 -m*(f(x0) / f1(x0))\n",
    "        i+=1\n"
   ]
  },
  {
   "cell_type": "code",
   "execution_count": 25,
   "metadata": {},
   "outputs": [
    {
     "name": "stdout",
     "output_type": "stream",
     "text": [
      "m =  1\n",
      "root of func f =  (0.523416589697368, 11)\n",
      "m =  2\n",
      "root of func f =  (0.5235663114484017, 5)\n",
      "m =  3\n",
      "root of func f =  (0.5235993572712611, 1)\n",
      "m =  4\n",
      "root of func f =  (0.5236105751883163, 6)\n",
      "m =  5\n",
      "root of func f =  (0.5235636152876691, 15)\n"
     ]
    }
   ],
   "source": [
    "m=[1,2,3,4,5]\n",
    "for i in range(len(m)):\n",
    "    print('m = ',m[i])\n",
    "    print('root of func f = ', newtons_method(a,b,f,f1,m[i],e2))"
   ]
  },
  {
   "cell_type": "markdown",
   "metadata": {},
   "source": [
    "# Задание 2.10.4\n",
    "##### Таблица значений функции, заданной неявно\n",
    "\n",
    "Функция y=f(x) задана неявно уравнением F(x,y)=0. \\\n",
    "На отрезке [1, 5] построить таблицу значений функции y=f(x) с шагом h=0.5, применяя один из методов численного решения нелинейного уравнения (с точностью $ \\varepsilon = 10^{-7} $ ). \\\n",
    "Построить график функции y=f(x) на заданном отрезке. \\\n",
    "$ F(x,y) = e^{xy} -cos(x\\sqrt[3]{y}) $ \\\n",
    "$ x\\in \\left [ 4.5, 7.2 \\right ]$ \\\n",
    "$ y\\in \\left [ -1.2, -0.2 \\right ]$ "
   ]
  },
  {
   "cell_type": "code",
   "execution_count": 145,
   "metadata": {},
   "outputs": [
    {
     "data": {
      "image/png": "[encoded data removed]",
      "text/plain": [
       "<Figure size 432x288 with 1 Axes>"
      ]
     },
     "metadata": {
      "needs_background": "light"
     },
     "output_type": "display_data"
    },
    {
     "data": {
      "text/plain": [
       "<sympy.plotting.plot.Plot at 0x129ab6610>"
      ]
     },
     "execution_count": 145,
     "metadata": {},
     "output_type": "execute_result"
    }
   ],
   "source": [
    "from sympy import var, plot_implicit,cos,exp,nsolve\n",
    "var('x y')\n",
    "plot_implicit(exp(x*y) - cos(x*(y**(1/3))))"
   ]
  },
  {
   "cell_type": "code",
   "execution_count": 140,
   "metadata": {},
   "outputs": [],
   "source": [
    "def bisection_complex(a, b, f, e):\n",
    "    while  abs(a - b) >= e:\n",
    "        x = (a + b) / 2\n",
    "        if np.sign(f(a) * f(x)) == '-1':\n",
    "            a, b = (a, x)\n",
    "        elif np.sign(f(b) * f(x)) == '-1':\n",
    "            a, b = (x, b)\n",
    "        else:\n",
    "            return 'Error! Метод бисекции не работает!'\n",
    "    return (a + b) / 2\n",
    "\n"
   ]
  },
  {
   "cell_type": "code",
   "execution_count": 179,
   "metadata": {},
   "outputs": [],
   "source": [
    "h = 0.5\n",
    "a = 4.5\n",
    "b = 7.2\n",
    "N = int((b - a) / h)\n",
    "x_list = np.linspace(a, b, N+1)\n",
    "y_list = []\n",
    "y_list_check = []"
   ]
  },
  {
   "cell_type": "code",
   "execution_count": 180,
   "metadata": {},
   "outputs": [],
   "source": [
    "for i in range (len(x_list)):\n",
    "    func = lambda y : cmath.exp(x_arr[i]*y) - cmath.cos(x_arr[i]*(y**(1/3)))\n",
    "    y_list.append(bisection_complex(-1.2, -0.2, func, 1e-7))"
   ]
  },
  {
   "cell_type": "code",
   "execution_count": 181,
   "metadata": {},
   "outputs": [],
   "source": [
    "for i in range (len(x_list)):\n",
    "    y_list_check.append(nsolve(exp(x_arr[i]*y) - cos(x_arr[i]*(y**(1/3))),0))"
   ]
  },
  {
   "cell_type": "code",
   "execution_count": 182,
   "metadata": {},
   "outputs": [
    {
     "data": {
      "text/plain": [
       "['Error! Метод бисекции не работает!',\n",
       " 'Error! Метод бисекции не работает!',\n",
       " 'Error! Метод бисекции не работает!',\n",
       " 'Error! Метод бисекции не работает!',\n",
       " 'Error! Метод бисекции не работает!',\n",
       " 'Error! Метод бисекции не работает!']"
      ]
     },
     "execution_count": 182,
     "metadata": {},
     "output_type": "execute_result"
    }
   ],
   "source": [
    "y_list"
   ]
  },
  {
   "cell_type": "code",
   "execution_count": 183,
   "metadata": {},
   "outputs": [
    {
     "data": {
      "text/plain": [
       "[0, 0, 0, 0, 0, 0]"
      ]
     },
     "execution_count": 183,
     "metadata": {},
     "output_type": "execute_result"
    }
   ],
   "source": [
    "y_list_check"
   ]
  },
  {
   "cell_type": "code",
   "execution_count": null,
   "metadata": {},
   "outputs": [],
   "source": []
  }
 ],
 "metadata": {
  "kernelspec": {
   "display_name": "Python 3",
   "language": "python",
   "name": "python3"
  },
  "language_info": {
   "codemirror_mode": {
    "name": "ipython",
    "version": 3
   },
   "file_extension": ".py",
   "mimetype": "text/x-python",
   "name": "python",
   "nbconvert_exporter": "python",
   "pygments_lexer": "ipython3",
   "version": "3.7.4"
  }
 },
 "nbformat": 4,
 "nbformat_minor": 2
}
