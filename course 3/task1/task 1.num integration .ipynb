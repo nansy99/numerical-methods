{
 "cells": [
  {
   "cell_type": "code",
   "execution_count": 1,
   "metadata": {},
   "outputs": [],
   "source": [
    "#метод прямоугольников \n",
    "\n",
    "#func - подынтегральная функция\n",
    "#a, b - пределы интегрирования\n",
    "#n - количество частичных отрезков\n",
    "\n",
    "def method_rectangle(func, a, b, n):\n",
    "    h = float(b - a)/n\n",
    "    result = func(a+0.5*h)\n",
    "    for i in range(1, n):\n",
    "        result += func(a + 0.5*h + i*h)\n",
    "    result *= h\n",
    "    return result\n"
   ]
  },
  {
   "cell_type": "code",
   "execution_count": 2,
   "metadata": {},
   "outputs": [],
   "source": [
    "#метод трапеций \n",
    "\n",
    "def method_trapeze(func, a, b, n):\n",
    "    h = float(b - a)/n\n",
    "    result = 0.5*(func(a) + func(b))\n",
    "    for i in range(1, n):\n",
    "        result += func(a + i*h)\n",
    "    result *= h\n",
    "    return result"
   ]
  },
  {
   "cell_type": "code",
   "execution_count": 3,
   "metadata": {},
   "outputs": [],
   "source": [
    "#формула Симпсона\n",
    "\n",
    "def formula_simpson(func,a,b,n):\n",
    "    h = float(b - a)/n\n",
    "    OddSum = 0.0\n",
    "    EvenSum = 0.0\n",
    "\n",
    "    for i in range(1,n,2):\n",
    "        OddSum += func(a+i*h)\n",
    "\n",
    "    for i in range(2,n,2):\n",
    "        EvenSum += func(a+i*h)\n",
    "        \n",
    "    result = (1.0/3.0)*h*(func(a) + func(b)+4*OddSum + 2*EvenSum)\n",
    "    return result"
   ]
  },
  {
   "cell_type": "code",
   "execution_count": 4,
   "metadata": {},
   "outputs": [],
   "source": [
    "#метод Монте-Карло\n",
    "\n",
    "from numpy import random\n",
    "\n",
    "def method_MonteCarlo(f, x1, x2, y1, y2, n):\n",
    "    x = random.uniform(x1, x2, n)\n",
    "    y = random.uniform(y1, y2, n)\n",
    "    \n",
    "    num_inside = 0      \n",
    "    for i in range(len(x)):\n",
    "        for j in range(len(y)):\n",
    "            if (y[j]<f(x[i])):\n",
    "                num_inside += 1\n",
    "    \n",
    "    return float(num_inside/n**2)\n",
    "\n"
   ]
  },
  {
   "cell_type": "code",
   "execution_count": 5,
   "metadata": {},
   "outputs": [
    {
     "data": {
      "text/plain": [
       "0.7468243244163724"
      ]
     },
     "execution_count": 5,
     "metadata": {},
     "output_type": "execute_result"
    }
   ],
   "source": [
    "from math import exp\n",
    "\n",
    "method_rectangle(lambda x: exp(-x**2), 0, 1, 400)"
   ]
  },
  {
   "cell_type": "code",
   "execution_count": 6,
   "metadata": {},
   "outputs": [
    {
     "data": {
      "text/plain": [
       "0.7468237496045952"
      ]
     },
     "execution_count": 6,
     "metadata": {},
     "output_type": "execute_result"
    }
   ],
   "source": [
    "method_trapeze(lambda x: exp(-x**2), 0, 1, 400)"
   ]
  },
  {
   "cell_type": "code",
   "execution_count": 7,
   "metadata": {},
   "outputs": [
    {
     "data": {
      "text/plain": [
       "0.7468241328127463"
      ]
     },
     "execution_count": 7,
     "metadata": {},
     "output_type": "execute_result"
    }
   ],
   "source": [
    "formula_simpson(lambda x: exp(-x**2), 0, 1, 400)"
   ]
  },
  {
   "cell_type": "code",
   "execution_count": 8,
   "metadata": {},
   "outputs": [
    {
     "data": {
      "text/plain": [
       "0.741725"
      ]
     },
     "execution_count": 8,
     "metadata": {},
     "output_type": "execute_result"
    }
   ],
   "source": [
    "method_MonteCarlo(lambda x: exp(-x**2), 0 ,1, 0, 1, 400)"
   ]
  },
  {
   "cell_type": "code",
   "execution_count": null,
   "metadata": {},
   "outputs": [],
   "source": []
  }
 ],
 "metadata": {
  "kernelspec": {
   "display_name": "Python 3",
   "language": "python",
   "name": "python3"
  },
  "language_info": {
   "codemirror_mode": {
    "name": "ipython",
    "version": 3
   },
   "file_extension": ".py",
   "mimetype": "text/x-python",
   "name": "python",
   "nbconvert_exporter": "python",
   "pygments_lexer": "ipython3",
   "version": "3.7.3"
  }
 },
 "nbformat": 4,
 "nbformat_minor": 2
}
