{
 "cells": [
  {
   "cell_type": "markdown",
   "metadata": {},
   "source": [
    "### Дмитриева Анастасия Вячеславовна, БПМ172\n",
    "### Вариант 10"
   ]
  },
  {
   "cell_type": "code",
   "execution_count": 1,
   "metadata": {},
   "outputs": [],
   "source": [
    "import numpy as np\n",
    "import math \n",
    "import copy\n",
    "import matplotlib.pyplot as plt\n",
    "import scipy.linalg\n",
    "\n"
   ]
  },
  {
   "cell_type": "markdown",
   "metadata": {},
   "source": [
    "# Задача 3.1.10"
   ]
  },
  {
   "cell_type": "markdown",
   "metadata": {},
   "source": [
    "Дана система уравнений $Ax=b$ порядка $n$. Исследовать зависимость погрешности решения x от\n",
    "погрешностей правой части системы $b$.\n",
    "\n",
    "\n",
    "Компоненты вектора $b$ во всех вариантах задаются формулой  $b_i  = N , \\forall i = 1...n$ , коэффициенты\n",
    "$c = c_{ij} = 0,1\\cdot N \\cdot i \\cdot j ,    \\forall i,j = 1...n, N$ - номер варианта.\n",
    "\n",
    "$N= 10, n = 5, a_{ij} = \\sin{(\\frac{c_{ij}}{8})} $"
   ]
  },
  {
   "cell_type": "code",
   "execution_count": 2,
   "metadata": {},
   "outputs": [
    {
     "name": "stdout",
     "output_type": "stream",
     "text": [
      "Матрица A:\n",
      " [[0.12467473 0.24740396 0.36627253 0.47942554 0.58509727]\n",
      " [0.24740396 0.47942554 0.68163876 0.84147098 0.94898462]\n",
      " [0.36627253 0.68163876 0.90226759 0.99749499 0.95408578]\n",
      " [0.47942554 0.84147098 0.99749499 0.90929743 0.59847214]\n",
      " [0.58509727 0.94898462 0.95408578 0.59847214 0.01659189]]\n",
      "Вектор b [10. 10. 10. 10. 10.]\n"
     ]
    }
   ],
   "source": [
    "#  1.1 Зададим матрицу системы A и вектор правой части b\n",
    "\n",
    "N = 10\n",
    "n = 5\n",
    "A = np.empty([n, n])\n",
    "b = np.ones(n)\n",
    "b = b*N\n",
    "for i in range(1,n+1):\n",
    "    for j in range(1,n+1):\n",
    "        c = 0.1*N*i*j\n",
    "        A[i-1][j-1] = math.sin(c/8)\n",
    "\n",
    "print(\"Матрица A:\\n\", A)\n",
    "print(\"Вектор b\", b)"
   ]
  },
  {
   "cell_type": "code",
   "execution_count": 3,
   "metadata": {},
   "outputs": [
    {
     "data": {
      "text/plain": [
       "array([ 1732046.00074125, -2052111.22487528,  1226346.77342854,\n",
       "        -395911.89200257,    55377.46941042])"
      ]
     },
     "execution_count": 3,
     "metadata": {},
     "output_type": "execute_result"
    }
   ],
   "source": [
    "# 1.2 Найдем решение системы методом Гаусса через встроенную функцию linalg.solve\n",
    "\n",
    "x = np.linalg.solve(A, b)\n",
    "x"
   ]
  },
  {
   "cell_type": "code",
   "execution_count": 4,
   "metadata": {},
   "outputs": [
    {
     "name": "stdout",
     "output_type": "stream",
     "text": [
      "condition number for matrix A: 5227452.620568788\n"
     ]
    }
   ],
   "source": [
    "# 2. Найдем число обусловленности матрицы с помощью встроенной функции linalg.cond\n",
    "\n",
    "cond_num =  np.linalg.cond(A)\n",
    "print(\"condition number for matrix A:\", cond_num)"
   ]
  },
  {
   "cell_type": "markdown",
   "metadata": {},
   "source": [
    "Найдем вектор относительных погрешностей $d$\n",
    "\n",
    "\n",
    "$d_i$ = $\\frac{||x - x^i||_{\\infty}}{||x||_{\\infty}}$, где $x^i$ - решение системы $Ax^i$ = $b^i, i = 1,...n$ \n",
    "\n",
    "$b_k^i = \n",
    "\\begin{cases}\n",
    " & b_k + \\Delta  , k = i \\\\ \n",
    " & b_k , k \\neq i\n",
    "\\end{cases}\n",
    "$. \n",
    "\n",
    "$k = 1,... n$\n",
    "\n",
    "\n",
    "$\\Delta$ - произвольная величина погрешности, возьмем $\\Delta = 0.01$"
   ]
  },
  {
   "cell_type": "code",
   "execution_count": 5,
   "metadata": {},
   "outputs": [
    {
     "name": "stdout",
     "output_type": "stream",
     "text": [
      "Вектор d:  [3.05742164e-03 3.61323516e-03 2.14961419e-03 6.89228637e-04\n",
      " 9.54279614e-05]\n"
     ]
    }
   ],
   "source": [
    "# 3. Найдем вектор относительных погрешностей d\n",
    "\n",
    "delta = 0.01\n",
    "def vec_d(A, b): \n",
    "    d = np.ones(n)\n",
    "    for i in range(1,n+1):\n",
    "        b_i = np.ones(n)\n",
    "        for j in range(1,n+1):\n",
    "            if (j == i):\n",
    "                b_i[j-1] = b[j-1]+delta\n",
    "            else:\n",
    "                b_i[j-1] = b[j-1]\n",
    "        x_i = np.linalg.solve(A, b_i)\n",
    "        d_i = np.linalg.norm(x-x_i, np.inf)/np.linalg.norm(x, np.inf)\n",
    "        d[i-1] = d_i\n",
    "    return d\n",
    "\n",
    "d = vec_d(A,b)\n",
    "print(\"Вектор d: \", d)"
   ]
  },
  {
   "cell_type": "code",
   "execution_count": 6,
   "metadata": {},
   "outputs": [
    {
     "data": {
      "image/png": "[encoded data removed]",
      "text/plain": [
       "<Figure size 432x288 with 1 Axes>"
      ]
     },
     "metadata": {
      "needs_background": "light"
     },
     "output_type": "display_data"
    },
    {
     "name": "stdout",
     "output_type": "stream",
     "text": [
      "0.0036132351566736938  -  максимальная погрешность у  2 компоненты\n"
     ]
    }
   ],
   "source": [
    "# 4. Определить компоненту b_m вектора b, которая оказывает наибольшее влияние на погрешность решения.\n",
    "\n",
    "x_hist=np.arange(1,n+1) #компонента\n",
    "y_hist =d #погрешности\n",
    "\n",
    "plt.bar(x_hist,y_hist)\n",
    "plt.show()\n",
    "\n",
    "print(max(d),' -  максимальная погрешность у ',np.where(d==max(d))[0][0]+1,'компоненты')\n"
   ]
  },
  {
   "cell_type": "code",
   "execution_count": 7,
   "metadata": {},
   "outputs": [
    {
     "name": "stdout",
     "output_type": "stream",
     "text": [
      "Нормы вектора d [0.6841274352135371, 0.8075136383486549, 0.4811439382108636, 0.15375782331497434, 0.02240354129532551]\n",
      "Компонента вектора, оказывающая наибольшее влияние на погрешность решения :  2\n"
     ]
    }
   ],
   "source": [
    "# Прибавим некоторое значение с (возьмем с=1) к каждой из компонент вектора b \n",
    "# оценим норму вектора относительных погрешностей d\n",
    "\n",
    "lst = []\n",
    "for i in range(1,n+1):\n",
    "    b_m = np.ones(n)*N\n",
    "    b_m[i-1] += 1\n",
    "    lst.append(np.linalg.norm(vec_d(A, b_m)))\n",
    "\n",
    "print(\"Нормы вектора d\",lst)\n",
    "max_value = max(lst)\n",
    "max_index = lst.index(max_value)\n",
    "print(\"Компонента вектора, оказывающая наибольшее влияние на погрешность решения : \",max_index +1)"
   ]
  },
  {
   "cell_type": "markdown",
   "metadata": {},
   "source": [
    "Оценить теоретически погрешность решения $x^m$ по формуле:   $\\delta(x^m)$ $\\leq$ $cond(A)\\delta(b^m)$. \n",
    "\n",
    "Сравнить значение $\\delta(x^m)$ со значением практической погрешности $d_m$"
   ]
  },
  {
   "cell_type": "code",
   "execution_count": 9,
   "metadata": {},
   "outputs": [
    {
     "name": "stdout",
     "output_type": "stream",
     "text": [
      "x =  [ 1732214.00597539 -2052307.05366609  1226460.61060296  -395947.21372319\n",
      "    55382.1549827 ]\n"
     ]
    }
   ],
   "source": [
    "# 5.1 Вычислим x^m - решение системы Ax = b^m\n",
    "\n",
    "b_m = np.ones(n)\n",
    "for j in range(1,n+1):\n",
    "    if (j == i):\n",
    "        b_m[j-1] = b[j-1]+ delta\n",
    "    else:\n",
    "        b_m[j-1] = b[j-1]\n",
    "x_m = np.linalg.solve(A, b_m)\n",
    "print(\"x = \", x_m)"
   ]
  },
  {
   "cell_type": "code",
   "execution_count": 10,
   "metadata": {},
   "outputs": [
    {
     "name": "stdout",
     "output_type": "stream",
     "text": [
      "delta(x^m) <=  5227.452620568677\n",
      "d_m =  0.0036132351566736938\n"
     ]
    }
   ],
   "source": [
    "# 5.2 Оценить теоретически погрешность решения  \n",
    "\n",
    "dlt_m = np.linalg.norm(b-b_m, np.inf)/np.linalg.norm(b, np.inf)\n",
    "\n",
    "print(\"delta(x^m) <= \",dlt_m * cond_num) \n",
    "print(\"d_m = \", d[max_index])\n"
   ]
  },
  {
   "cell_type": "markdown",
   "metadata": {},
   "source": [
    "$ \\textbf{Вывод:} $ Значение практической погрешности $d_m$ меньше значения теоретической погрешности $\\delta(x^m)$, т.к. теоретическая является оценочной и не вычисляется с должной точностью"
   ]
  },
  {
   "cell_type": "markdown",
   "metadata": {},
   "source": [
    "# Задача 3.4"
   ]
  },
  {
   "cell_type": "markdown",
   "metadata": {},
   "source": [
    "Решить систему уравнений $Ax=b$ из задачи 3.1, используя LU-разложение матрицы $A$."
   ]
  },
  {
   "cell_type": "code",
   "execution_count": 11,
   "metadata": {},
   "outputs": [],
   "source": [
    "# 1. Используя встроенную функцию scipy.linalg.lu_factor, получить LU- разложение матрицы A\n",
    "\n",
    "lu, piv = scipy.linalg.lu_factor(A)"
   ]
  },
  {
   "cell_type": "code",
   "execution_count": 12,
   "metadata": {},
   "outputs": [
    {
     "name": "stdout",
     "output_type": "stream",
     "text": [
      "L:\n",
      " [[ 1.          0.          0.          0.          0.        ]\n",
      " [ 0.6260028   1.          0.          0.          0.        ]\n",
      " [ 0.81939459  0.72943769  1.          0.          0.        ]\n",
      " [ 0.21308377  0.51604251 -0.82461458  1.          0.        ]\n",
      " [ 0.42284244  0.89246337 -0.88782291  0.85791897  1.        ]]\n",
      "U:\n",
      " [[ 5.85097273e-01  9.48984619e-01  9.54085782e-01  5.98472144e-01\n",
      "   1.65918922e-02]\n",
      " [ 0.00000000e+00  8.75717345e-02  3.05007227e-01  6.22849751e-01\n",
      "   9.43699211e-01]\n",
      " [ 0.00000000e+00  0.00000000e+00 -6.76150710e-03 -3.54174950e-02\n",
      "  -1.03492939e-01]\n",
      " [ 0.00000000e+00  0.00000000e+00  0.00000000e+00  1.27810452e-03\n",
      "   9.23111238e-03]\n",
      " [ 0.00000000e+00  0.00000000e+00  0.00000000e+00  0.00000000e+00\n",
      "  -5.10650143e-05]]\n"
     ]
    }
   ],
   "source": [
    "# Верхние и нижние треугольные матрицы \n",
    "\n",
    "u = np.triu(lu)\n",
    "l = np.tril(lu, k = -1) + np.eye(n)\n",
    "print(\"L:\\n\",l)\n",
    "print(\"U:\\n\",u)\n",
    "\n"
   ]
  },
  {
   "cell_type": "code",
   "execution_count": 13,
   "metadata": {},
   "outputs": [
    {
     "name": "stdout",
     "output_type": "stream",
     "text": [
      "[10.          3.73997203 -0.92202245  5.17886457 -2.82785127]\n"
     ]
    }
   ],
   "source": [
    "# 2.1 Преобразовать вектор b по формулам прямого хода метода Гаусса. \n",
    "\n",
    "b_new = np.linalg.inv(l)@b\n",
    "print(b_new)\n"
   ]
  },
  {
   "cell_type": "code",
   "execution_count": 14,
   "metadata": {},
   "outputs": [
    {
     "name": "stdout",
     "output_type": "stream",
     "text": [
      "Решение, полученное обратным ходом:\n",
      " [ 1732046.00074124 -2052111.22487528  1226346.77342854  -395911.89200257\n",
      "    55377.46941042]\n",
      "Решение, полученнное в пункте 3.1.10 :\n",
      " [ 1732046.00074125 -2052111.22487528  1226346.77342854  -395911.89200257\n",
      "    55377.46941042]\n"
     ]
    }
   ],
   "source": [
    "# 2.2 С помощью обратной подстановки найти решение системы x\n",
    "\n",
    "x_new = np.linalg.solve(u, b_new)\n",
    "\n",
    "print(\"Решение, полученное обратным ходом:\\n\", x_new)\n",
    "print(\"Решение, полученнное в пункте 3.1.10 :\\n\",x)\n"
   ]
  },
  {
   "cell_type": "markdown",
   "metadata": {},
   "source": [
    "$ \\textbf{Вывод:}$ Решение, полученное LU - разложением матрицы совпадает с решением, полученным в п. 3.1"
   ]
  },
  {
   "cell_type": "markdown",
   "metadata": {},
   "source": [
    "# Задача 3.6.2"
   ]
  },
  {
   "cell_type": "markdown",
   "metadata": {},
   "source": [
    "Дана система уравнений $Ax=b$ порядка $n$, где $A=A(t), t$ - параметр. Исследовать зависимость\n",
    "решения системы $Ax=b$ от вычислительной погрешности при заданных значениях параметра $t$.\n"
   ]
  },
  {
   "cell_type": "markdown",
   "metadata": {},
   "source": [
    "Элементы матрицы $A$ вычисляются по формулам :\n",
    "$A_{ij} = \n",
    "\\begin{cases}\n",
    " & q_M^j  ,  i   \\neq j \\\\ \n",
    " & q_M^j + t , i = j \n",
    "\\end{cases}\n",
    "$\n",
    "где $q_M  = 0.993 + (-1)^M  \\cdot M \\cdot 10^{-4} , i,j = 1,...n $\\\n",
    "Параметр $t = 0.0001 ,  1  , 10000 $\\\n",
    "Элементы вектора $b$ вычисляются по формулам: $ b_j = q_M^{(n+1-j)}, j = 1,...n$"
   ]
  },
  {
   "cell_type": "markdown",
   "metadata": {},
   "source": [
    "$  M = 2 , n = 100, m = 5$"
   ]
  },
  {
   "cell_type": "code",
   "execution_count": 16,
   "metadata": {},
   "outputs": [],
   "source": [
    "# Зададим начальные значения \n",
    "\n",
    "M=2\n",
    "m=5\n",
    "n=100 \n",
    "t1=0.0001\n",
    "t2=1\n",
    "t3=10000\n",
    "\n",
    "# Вычислим q по заданной формуле\n",
    "q=0.993+((-1)**M)*(10**(-4))*M\n",
    "\n",
    "# Вычислим вектор b по заданной формуле\n",
    "b=np.zeros(n)\n",
    "for j in range(1,n+1):\n",
    "    b[j-1]=q**(n+1-j)\n",
    "\n",
    "#Вычислим матрицы А для разных значений t\n",
    "A_1=np.zeros([n,n])\n",
    "A_2=np.zeros([n,n])\n",
    "A_3=np.zeros([n,n])\n",
    "for i in range(100):\n",
    "    for j in range(100):\n",
    "        if i!=j:\n",
    "            A_1[i,j]=q**j\n",
    "            A_2[i,j]=q**j\n",
    "            A_3[i,j]=q**j\n",
    "        else:\n",
    "            A_1[i,j]=q**j+t1\n",
    "            A_2[i,j]=q**j+t2\n",
    "            A_3[i,j]=q**j+t3"
   ]
  },
  {
   "cell_type": "code",
   "execution_count": 23,
   "metadata": {},
   "outputs": [],
   "source": [
    "# 1.1 Составить программу, реализующую метод Гаусса (схема частичного выбора) для произвольной системы Ax=b. \n",
    "\n",
    "def gauss (A,b): \n",
    "    M=copy.copy(A) \n",
    "    s=copy.copy(b)\n",
    "    x=np.zeros(n)\n",
    "    \n",
    "    #прямой ход\n",
    "    for j in range(n):\n",
    "        for i in range(j+1,n):\n",
    "            mu=M[i,j]/M[j,j] #коэффициент\n",
    "            M[i]-=M[j]*mu \n",
    "            s[i]-=s[j]*mu\n",
    "            \n",
    "    #обратный ход        \n",
    "    x[n-1]=s[n-1]/M[n-1,n-1]\n",
    "    \n",
    "    for j in range(n-2,-1,-1):\n",
    "        l=0\n",
    "        for i in range(n-1-j):\n",
    "            l+=(x[n-1-i]*M[j,n-1-i])\n",
    "        x[j]=(s[j]-l)/M[j,j]\n",
    "    return(x)\n"
   ]
  },
  {
   "cell_type": "code",
   "execution_count": 24,
   "metadata": {},
   "outputs": [],
   "source": [
    "# 1.2 Используя составленную программу, найти решение заданной системы Ax=b.\n",
    "\n",
    "x_1=gauss(A_1,b)\n",
    "x_2=gauss(A_2,b)\n",
    "x_3=gauss(A_3,b)"
   ]
  },
  {
   "cell_type": "code",
   "execution_count": 25,
   "metadata": {},
   "outputs": [],
   "source": [
    "# 2.1 Составить программу округления числа до m знаков после запятой. \n",
    "\n",
    "def round_m(number): \n",
    "    number = number*(10**m)+0.41 \n",
    "    number = number//1 \n",
    "    return number/(10**m) \n"
   ]
  },
  {
   "cell_type": "code",
   "execution_count": 26,
   "metadata": {},
   "outputs": [],
   "source": [
    "# 2.2 Вычислить элементы матрицы A и вектора b по формулам индивидуального варианта, производя округление \n",
    "#до m- знаков после запятой\n",
    "\n",
    "# Матрицы А с округлением \n",
    "A1_1=np.zeros([n,n])\n",
    "A1_2=np.zeros([n,n])\n",
    "A1_3=np.zeros([n,n])\n",
    "for i in range(100):\n",
    "    for j in range(100):\n",
    "        if i!=j:\n",
    "            A1_1[i,j]=round_m(q**j)\n",
    "            A1_2[i,j]=round_m(q**j)\n",
    "            A1_3[i,j]=round_m(q**j)\n",
    "        else:\n",
    "            A1_1[i,j]=round_m(q**j+t1)\n",
    "            A1_2[i,j]=round_m(q**j+t2)\n",
    "            A1_3[i,j]=round_m(q**j+t3)\n",
    "            \n",
    "            \n",
    "# Вектор b с округлением\n",
    "b1=np.zeros(n)\n",
    "for j in range(n):\n",
    "    b1[j]=round_m(q**(n+1-j))"
   ]
  },
  {
   "cell_type": "code",
   "execution_count": 27,
   "metadata": {},
   "outputs": [],
   "source": [
    "# 3.1 Решить систему уравнений A1x1=b1 методом, указанным в п.1, обращаясь каждый раз к программе округления.\n",
    "\n",
    "x1_1=gauss(A1_1,b1)\n",
    "x1_2=gauss(A1_2,b1)\n",
    "x1_3=gauss(A1_3,b1)\n",
    "\n"
   ]
  },
  {
   "cell_type": "code",
   "execution_count": 28,
   "metadata": {},
   "outputs": [
    {
     "name": "stdout",
     "output_type": "stream",
     "text": [
      "Погрешность1(t1=0.0001) =  98.12233935820416\n",
      "Погрешность2 (t2=1) =  0.009953687319850947\n",
      "Погрешность3 (t3=10000) =  4.9728844068282e-06\n"
     ]
    }
   ],
   "source": [
    "# 3.2 Оценить практически полученную погрешность решения.\n",
    "# Будем считать погрешности как норму разности между полученными решениями без округления и с округлением \n",
    "\n",
    "err1 =np.linalg.norm(x_1-x1_1)\n",
    "print ('Погрешность1(t1=0.0001) = ', err1)\n",
    "\n",
    "err2 =np.linalg.norm(x_2-x1_2)\n",
    "print ('Погрешность2 (t2=1) = ', err2)\n",
    "\n",
    "err3 =np.linalg.norm(x_3-x1_3)\n",
    "print ('Погрешность3 (t3=10000) = ', err3)\n",
    "\n"
   ]
  },
  {
   "cell_type": "code",
   "execution_count": 29,
   "metadata": {},
   "outputs": [
    {
     "data": {
      "text/plain": [
       "[<matplotlib.lines.Line2D at 0x61e6c6c50>]"
      ]
     },
     "execution_count": 29,
     "metadata": {},
     "output_type": "execute_result"
    },
    {
     "data": {
      "image/png": "[encoded data removed]",
      "text/plain": [
       "<Figure size 432x288 with 1 Axes>"
      ]
     },
     "metadata": {
      "needs_background": "light"
     },
     "output_type": "display_data"
    }
   ],
   "source": [
    "#Сравнить результаты, полученные при разных значениях параметра t\n",
    "\n",
    "err = [err1, err2, err3]\n",
    "t = [t1, t2, t3]\n",
    "plt.plot(t, err)\n"
   ]
  },
  {
   "cell_type": "markdown",
   "metadata": {},
   "source": [
    "$ \\textbf{Вывод:} $ Чем больше значение величины t, тем меньше значение погрешности."
   ]
  },
  {
   "cell_type": "code",
   "execution_count": null,
   "metadata": {},
   "outputs": [],
   "source": []
  }
 ],
 "metadata": {
  "kernelspec": {
   "display_name": "Python 3",
   "language": "python",
   "name": "python3"
  },
  "language_info": {
   "codemirror_mode": {
    "name": "ipython",
    "version": 3
   },
   "file_extension": ".py",
   "mimetype": "text/x-python",
   "name": "python",
   "nbconvert_exporter": "python",
   "pygments_lexer": "ipython3",
   "version": "3.7.4"
  }
 },
 "nbformat": 4,
 "nbformat_minor": 2
}
